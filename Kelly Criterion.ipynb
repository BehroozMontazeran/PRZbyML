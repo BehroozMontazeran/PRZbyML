{
 "cells": [
  {
   "cell_type": "code",
   "execution_count": 1,
   "metadata": {},
   "outputs": [],
   "source": [
    "import math\n",
    "import time\n",
    "import numpy as np\n",
    "import pandas as pd\n",
    "import datetime as dt\n",
    "import cufflinks as cf\n",
    "from pylab import plt\n",
    "np.random.seed(1000)\n",
    "plt.style.use('seaborn')\n",
    "%matplotlib inline"
   ]
  },
  {
   "cell_type": "code",
   "execution_count": 2,
   "metadata": {},
   "outputs": [
    {
     "data": {
      "text/html": [
       "<div>\n",
       "<style scoped>\n",
       "    .dataframe tbody tr th:only-of-type {\n",
       "        vertical-align: middle;\n",
       "    }\n",
       "\n",
       "    .dataframe tbody tr th {\n",
       "        vertical-align: top;\n",
       "    }\n",
       "\n",
       "    .dataframe thead th {\n",
       "        text-align: right;\n",
       "    }\n",
       "</style>\n",
       "<table border=\"1\" class=\"dataframe\">\n",
       "  <thead>\n",
       "    <tr style=\"text-align: right;\">\n",
       "      <th></th>\n",
       "      <th>&lt;CLOSE&gt;</th>\n",
       "      <th>returns</th>\n",
       "    </tr>\n",
       "    <tr>\n",
       "      <th>&lt;DTYYYYMMDD&gt;</th>\n",
       "      <th></th>\n",
       "      <th></th>\n",
       "    </tr>\n",
       "  </thead>\n",
       "  <tbody>\n",
       "    <tr>\n",
       "      <th>2021-08-03</th>\n",
       "      <td>13887.0</td>\n",
       "      <td>0.004258</td>\n",
       "    </tr>\n",
       "    <tr>\n",
       "      <th>2021-08-02</th>\n",
       "      <td>13972.0</td>\n",
       "      <td>0.006102</td>\n",
       "    </tr>\n",
       "    <tr>\n",
       "      <th>2021-08-01</th>\n",
       "      <td>14157.0</td>\n",
       "      <td>0.013154</td>\n",
       "    </tr>\n",
       "    <tr>\n",
       "      <th>2021-07-31</th>\n",
       "      <td>14309.0</td>\n",
       "      <td>0.010680</td>\n",
       "    </tr>\n",
       "    <tr>\n",
       "      <th>2021-07-28</th>\n",
       "      <td>14359.0</td>\n",
       "      <td>0.003488</td>\n",
       "    </tr>\n",
       "  </tbody>\n",
       "</table>\n",
       "</div>"
      ],
      "text/plain": [
       "              <CLOSE>   returns\n",
       "<DTYYYYMMDD>                   \n",
       "2021-08-03    13887.0  0.004258\n",
       "2021-08-02    13972.0  0.006102\n",
       "2021-08-01    14157.0  0.013154\n",
       "2021-07-31    14309.0  0.010680\n",
       "2021-07-28    14359.0  0.003488"
      ]
     },
     "execution_count": 2,
     "metadata": {},
     "output_type": "execute_result"
    }
   ],
   "source": [
    "raw = pd.read_csv('Tourism.Bank.csv',index_col=1, parse_dates=True)\n",
    "#raw = pd.read_csv('S I..N..C..Ind..csv',index_col=1, parse_dates=True)\n",
    "#raw = pd.read_csv('Social.Sec.Inv.csv',index_col=1, parse_dates=True)\n",
    "#raw = pd.read_csv('S Pasargad.Insur..csv',index_col=1, parse_dates=True)\n",
    "#raw = pd.read_csv('Jahrom.Power.Plant.csv',index_col=1, parse_dates=True)\n",
    "symbol = '<CLOSE>'\n",
    "data = pd.DataFrame(raw[symbol])\n",
    "data['returns'] = np.log(data / data.shift(1))\n",
    "data.dropna(inplace=True)\n",
    "data.head()"
   ]
  },
  {
   "cell_type": "code",
   "execution_count": 3,
   "metadata": {},
   "outputs": [
    {
     "data": {
      "text/plain": [
       "-2.5303767316545875"
      ]
     },
     "execution_count": 3,
     "metadata": {},
     "output_type": "execute_result"
    }
   ],
   "source": [
    "mu = data.returns.mean() * 252 #Calculates the annualized return\n",
    "mu\n",
    "sigma = data.returns.std() * 252 ** 0.5 #Calculates the annualized volatility\n",
    "sigma\n",
    "r = 0.0 #Sets the risk-free rate to 0 (for simplicity)\n",
    "f = (mu - r) / sigma ** 2 #Calculates the optimal Kelly fraction to be invested in the strategy\n",
    "f"
   ]
  },
  {
   "cell_type": "code",
   "execution_count": 5,
   "metadata": {},
   "outputs": [
    {
     "name": "stdout",
     "output_type": "stream",
     "text": [
      "              equity_-1.27  equity_-1.67  equity_-2.53\n",
      "<DTYYYYMMDD>                                          \n",
      "2019-05-07       -1.183476    -26.483379   -471.754851\n",
      "2019-05-06       -1.024588    -21.790063   -345.083390\n",
      "2019-05-05       -0.921305    -18.890660   -275.512076\n",
      "2019-05-04       -0.895851    -18.201729   -260.288182\n",
      "2019-05-01       -0.900863    -18.336133   -263.200314\n"
     ]
    }
   ],
   "source": [
    "equs = []\n",
    "def kelly_strategy(f):\n",
    "    global equs\n",
    "    equ = 'equity_{:.2f}'.format(f)\n",
    "    equs.append(equ)\n",
    "    cap = 'capital_{:.2f}'.format(f)\n",
    "    data[equ] = 1\n",
    "    data[cap] = data[equ] * f\n",
    "    for i, t in enumerate(data.index[1:]):\n",
    "        t_1 = data.index[i]\n",
    "        data.loc[t, cap] = data[cap].loc[t_1] *  math.exp(data['returns'].loc[t])\n",
    "        data.loc[t, equ] = data[cap].loc[t] -  data[cap].loc[t_1] +  data[equ].loc[t_1]\n",
    "        data.loc[t, cap] = data[equ].loc[t] * f\n",
    "        \n",
    "kelly_strategy(f * 0.5)\n",
    "kelly_strategy(f * 0.66)\n",
    "kelly_strategy(f)\n",
    "print(data[equs].tail())"
   ]
  },
  {
   "cell_type": "code",
   "execution_count": null,
   "metadata": {},
   "outputs": [
    {
     "data": {
      "image/png": "[encoded data removed]",
      "text/plain": [
       "<Figure size 720x432 with 1 Axes>"
      ]
     },
     "metadata": {
      "needs_background": "light"
     },
     "output_type": "display_data"
    }
   ],
   "source": [
    "ax = data['returns'].cumsum().apply(np.exp).plot(legend=True,figsize=(10, 6))\n",
    "data[equs].plot(ax=ax, legend=True);"
   ]
  },
  {
   "cell_type": "code",
   "execution_count": null,
   "metadata": {},
   "outputs": [],
   "source": []
  }
 ],
 "metadata": {
  "kernelspec": {
   "display_name": "Python 3",
   "language": "python",
   "name": "python3"
  },
  "language_info": {
   "codemirror_mode": {
    "name": "ipython",
    "version": 3
   },
   "file_extension": ".py",
   "mimetype": "text/x-python",
   "name": "python",
   "nbconvert_exporter": "python",
   "pygments_lexer": "ipython3",
   "version": "3.8.3"
  }
 },
 "nbformat": 4,
 "nbformat_minor": 4
}
